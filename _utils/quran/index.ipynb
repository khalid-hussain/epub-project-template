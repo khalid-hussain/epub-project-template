{
 "cells": [
  {
   "cell_type": "code",
   "execution_count": 1,
   "metadata": {},
   "outputs": [],
   "source": [
    "import pandas as pd\n",
    "\n",
    "filename = 'hafsData_v18.csv'\n",
    "mCSV = pd.read_csv(filename)\n",
    "\n",
    "df = mCSV[[\"id\",\"sora\",\"sora_name_en\", \"sora_name_ar\",\"aya_no\", \"aya_text\",\"aya_text_emlaey\"]]\n",
    "\n",
    "def seeker(data, location):\n",
    "    surah = data[data['sora'] == location[0]]\n",
    "\n",
    "    if len(location) == 1:\n",
    "        return surah\n",
    "    if len(location) == 2:\n",
    "        return surah[surah['aya_no'] == location[1]]\n",
    "    elif len(location) == 3:\n",
    "        return surah[(surah['aya_no'] >= location[1]) & (surah['aya_no'] <= location[2])]\n"
   ]
  },
  {
   "cell_type": "code",
   "execution_count": 36,
   "metadata": {},
   "outputs": [
    {
     "data": {
      "text/plain": [
       "'وَإِن تَعُدُّواْ نِعۡمَةَ ٱللَّهِ لَا تُحۡصُوهَآۗ إِنَّ ٱللَّهَ لَغَفُورٞ رَّحِيمٞ\\xa0١٨'"
      ]
     },
     "execution_count": 36,
     "metadata": {},
     "output_type": "execute_result"
    }
   ],
   "source": [
    "location = [16,18]\n",
    "result = ' '.join(seeker(df, location)['aya_text'])\n",
    "result"
   ]
  },
  {
   "cell_type": "code",
   "execution_count": 8,
   "metadata": {},
   "outputs": [
    {
     "name": "stdout",
     "output_type": "stream",
     "text": [
      "أمن خلق السموات والأرض وأنزل لكم من السماء ماء فأنبتنا به حدائق ذات بهجة ما كان لكم أن تنبتوا شجرها أإله مع الله بل هم قوم يعدلون أمن جعل الأرض قرارا وجعل خلالها أنهارا وجعل لها رواسي وجعل بين البحرين حاجزا أإله مع الله بل أكثرهم لا يعلمون\n"
     ]
    }
   ],
   "source": [
    "location = [2,60,61];\n",
    "result = ' '.join(seeker(df, location)['aya_text_emlaey'])\n",
    "print(result)"
   ]
  },
  {
   "cell_type": "code",
   "execution_count": 5,
   "metadata": {},
   "outputs": [
    {
     "name": "stdout",
     "output_type": "stream",
     "text": [
      "\\RES{239}{1}{25}{TITLE}\n",
      "\\RES{240}{2}{25}{TITLE}\n",
      "\\RES{241}{3}{25}{TITLE}\n",
      "\\RES{242}{4}{25}{TITLE}\n",
      "\\RES{243}{5}{25}{TITLE}\n",
      "\\RES{244}{6}{25}{TITLE}\n",
      "\\RES{245}{7}{25}{TITLE}\n",
      "\\RES{246}{8}{25}{TITLE}\n",
      "\\RES{247}{9}{25}{TITLE}\n",
      "\\RES{248}{10}{25}{TITLE}\n",
      "\\RES{249}{11}{25}{TITLE}\n",
      "\\RES{250}{12}{25}{TITLE}\n",
      "\\RES{251}{13}{25}{TITLE}\n",
      "\\RES{252}{14}{25}{TITLE}\n",
      "\\RES{253}{15}{25}{TITLE}\n",
      "\\RES{254}{16}{25}{TITLE}\n",
      "\\RES{255}{17}{25}{TITLE}\n"
     ]
    }
   ],
   "source": [
    "X = 239\n",
    "Y = 1\n",
    "mString = f\"\\RES{{{X}}}{{{Y}}}{{25}}{{TITLE}}\"\n",
    "\n",
    "for x in range (1,18):\n",
    "    mString = f\"\\RES{{{X}}}{{{Y}}}{{25}}{{TITLE}}\"\n",
    "    X = X + 1\n",
    "    Y = Y + 1\n",
    "    print(mString)\n"
   ]
  }
 ],
 "metadata": {
  "kernelspec": {
   "display_name": "Python 3",
   "language": "python",
   "name": "python3"
  },
  "language_info": {
   "codemirror_mode": {
    "name": "ipython",
    "version": 3
   },
   "file_extension": ".py",
   "mimetype": "text/x-python",
   "name": "python",
   "nbconvert_exporter": "python",
   "pygments_lexer": "ipython3",
   "version": "3.12.5"
  },
  "orig_nbformat": 4
 },
 "nbformat": 4,
 "nbformat_minor": 2
}
